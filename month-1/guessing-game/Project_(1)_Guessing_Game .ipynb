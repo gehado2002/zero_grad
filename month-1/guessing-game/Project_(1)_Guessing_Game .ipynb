{
 "cells": [
  {
   "cell_type": "markdown",
   "metadata": {
    "id": "hMV-7TpxbEDG"
   },
   "source": [
    "\n",
    "<a href=\"https://www.zero-grad.com/\">\n",
    "         <img alt=\"Zero Grad\" src=\"https://lh3.googleusercontent.com/oEMY-qk_B2HW_Fponz1a3u1fLfo3NpO0VFjQKnVW8fH0v93NAWala5Kgp0nN2ubiyZdEMpwhv3Ynv7bXsB0RZ28YfEd_ZlRum75OHEu0-z7XwHfcD3sin7_SORLzg1gz52MsxD3b1WbxQWX1RdR4HP3jpbJTOuCiddl92UBcQH_x-Llx7_XuZuwb9ekN9vYnKsw6U1yL2df4IVrJEDySttzab9qlHvMO7sSekgS64jPVAmATjqXqlvrwM026dhrad-7nX-hfr2uKlUGPuo9xKzVo4EhbUP1-pKBQNPNHO6P0KcReg3NxbtKmWXRyg9LPX0xO-wwXWt9GhCcPXFV_BoY5eQXabCjR3mlr9SO01VgWplas-XF4337_JOm-bVkiaQjQca_N4Gg0hy26TvIGRnHEMIPSgudYPqhMnatoN4xAC715rP82r1svC0_qadXMZHu6D40YqWnY9ZE-iujr2p1_CetxmG-uY94UATy7o-SnxuPchG4QfZkiUgRMr8xNg86bQMuBxbCS_lOyVMwfqwbt2IunlDcZ8yyN_3SJFzFHuFOOjQolgGQrytI0mP1oTwba7je0RtBtCuTck1UCMMsZvMnJhCtWgMmuLoYTkSCzxMXbz0T3L2AClDouA_3dwM7z1gdm8Gq4v06T1KWFUs1adGNH5fuj-pUHEfW4drzzXgolPH5SehqhaNsqdMttCPUzNPIIEjwfULyQi7nlP-w-qydK82mdhdmjQhrprfoGtsPckJkI1Tur60uZI7nLkES5cE3tQrGualSNArRkkU8KN4tStZ0CkmqZNkAlMbfAJSYBD7tDxhGSg922AdLevSLJMTUyg6KuHoY30r7zH1Z8fE0R8aFZL2LJl54OU_tkXEdlFlSnZTOdB-PVTj-yagpt99SetLnQIX5SS_Vxc0BNPKjUZG0oEHYbIxkbZN1O7Rg78xe-thytngS0byfuaeP2X4NYjg29FIffnn72bAUs9Ii0N2mOpABLg1uQMN4MyAa1Mbd_=w1300-h200-no?authuser=1\" >\n",
    "      </a>"
   ]
  },
  {
   "cell_type": "markdown",
   "metadata": {
    "id": "1NMnTuFU4XF3"
   },
   "source": [
    "# Guessing Game Project Description"
   ]
  },
  {
   "cell_type": "markdown",
   "metadata": {
    "id": "7uon2S-n4XF3"
   },
   "source": [
    "* **`First: You ask the user to set the game level:`**\n",
    "  * *(1) Easy*:\n",
    "    * Limits : [1 - 10]  \n",
    "    * No. of trials : 3\n",
    "  * *(2) Intermediate*:\n",
    "    * Limits : [1 - 100]\n",
    "    * No. of trials : 7\n",
    "  * *(3) Hard* :  \n",
    "    * Limits : [1 - 1000]\n",
    "    * No. of trials : 15\n",
    "\n",
    "* **`Second: set the game settings according to the game level:`**\n",
    "  * set the `guess` to a number within the limits using `random` module\n",
    "  * set the number of trials: `n_trials`\n",
    "\n",
    "* **`Finally: Play the game:`**\n",
    "  * Ask the user to guess the number:\n",
    "    * If he guessed it successfully : `print('Congratulations, you achieved it in {user_trials} trial') `\n",
    "    * if he failed:\n",
    "      * user_trials < n_trials: till him (Increase) or (Decrease)\n",
    "      * user_trials = n_trials: `print('You Lose!')`"
   ]
  },
  {
   "cell_type": "markdown",
   "metadata": {
    "id": "PhpgbWHJhJOW"
   },
   "source": [
    "## Project Description"
   ]
  },
  {
   "cell_type": "markdown",
   "metadata": {
    "id": "9XJyp9xehPBl"
   },
   "source": [
    "* **`First: You ask the user to set the game level:`**\n",
    "  * *(1) Easy*:\n",
    "    * Limits : [1 - 10]  \n",
    "    * No. of trials : 3\n",
    "  * *(2) Intermediate*:\n",
    "    * Limits : [1 - 100]\n",
    "    * No. of trials : 7\n",
    "  * *(3) Hard* :  \n",
    "    * Limits : [1 - 1000]\n",
    "    * No. of trials : 15\n",
    "\n",
    "* **`Second: start the game according to the game level:`**\n",
    "  * set the `guess` to a number within the limits using `random` module\n",
    "  * set the number of trials: `n_trials`\n",
    "\n",
    "* **`Finally: start the game:`**\n",
    "  * Ask the user to guess the number:\n",
    "    * If he guessed it successfully : `print('Congratulations, you achieved it in {user_trials} trial') `\n",
    "    * if he failed:\n",
    "      * user_trials < n_trials: give him another trial within\n",
    "      * user_trials = n_trials: `print('You Lose!')`"
   ]
  },
  {
   "cell_type": "markdown",
   "metadata": {
    "id": "m2nflmTioFy_"
   },
   "source": [
    "# Template of Solution"
   ]
  },
  {
   "cell_type": "markdown",
   "metadata": {
    "id": "GsE-z7Son-xm"
   },
   "source": [
    "## Show the game levels"
   ]
  },
  {
   "cell_type": "code",
   "execution_count": 230,
   "metadata": {
    "id": "YueCJNtPnndY"
   },
   "outputs": [],
   "source": [
    "def show_levels():\n",
    "    print(  \"\"\"Game Levels :\\n\n",
    "      (1) Easy:\\n\n",
    "          * Limits : [1 - 10]\\n \n",
    "          * No. of trials : 3\\n\n",
    "      (2) Intermediate*:\\n \n",
    "          * Limits : [1 - 100]\\n \n",
    "          * No. of trials : 7\\n\n",
    "      (3) Hard :\\n  \n",
    "          * Limits : [1 - 1000]\\n \n",
    "          * No. of trials : 15\\n \"\"\")"
   ]
  },
  {
   "cell_type": "markdown",
   "metadata": {
    "id": "ZaIwkooboJ5p"
   },
   "source": [
    "## Ask the user for the game level"
   ]
  },
  {
   "cell_type": "code",
   "execution_count": 231,
   "metadata": {
    "id": "ciabphtW4nB1"
   },
   "outputs": [],
   "source": [
    "def game_level_choice():\n",
    "    while True :\n",
    "        game_level =int(input(\"\"\"Enter the game level :\\n\n",
    "        (1) Easy \t (2) Intermediate \t (3) Hard \"\"\"))\n",
    "        while game_level not in range (1,4):\n",
    "            print(\"invalid\")\n",
    "            break\n",
    "        else:\n",
    "            break\n",
    "       \n",
    "            \n",
    "    return game_level"
   ]
  },
  {
   "cell_type": "markdown",
   "metadata": {
    "id": "OjfyXPCeoQM4"
   },
   "source": [
    "## Set the game settings according to the game level:\n"
   ]
  },
  {
   "cell_type": "code",
   "execution_count": null,
   "metadata": {
    "id": "NTxJ1qsJmhoG"
   },
   "outputs": [],
   "source": [
    "def set_game_settings(game_level):\n",
    "    if game_level ==1:\n",
    "        limits=range(1,11)\n",
    "        n_trials=3\n",
    "\n",
    "    elif game_level ==2:\n",
    "        limits=range(1,101)\n",
    "        n_trials=7\n",
    "\n",
    "    elif game_level ==3:\n",
    "        limits=range(1,1001)\n",
    "        n_trials=15\n",
    "    \n",
    "    return limits, n_trials"
   ]
  },
  {
   "cell_type": "markdown",
   "metadata": {
    "id": "97c-Ofv1o522"
   },
   "source": [
    "## Start Playing"
   ]
  },
  {
   "cell_type": "markdown",
   "metadata": {
    "id": "bwXcWa3bUREY"
   },
   "source": [
    "> Hint: to generate random number in some range:\n",
    "\n",
    "`import random`\n",
    "\n",
    "`num = random.randint(lower, upper)`\n",
    "\n",
    " or\n",
    "\n",
    " `num = random.choice(range(lower, upper))`\n"
   ]
  },
  {
   "cell_type": "code",
   "execution_count": 233,
   "metadata": {
    "id": "wz6TkIcTo1Jl"
   },
   "outputs": [],
   "source": [
    "import random\n",
    "\n",
    "def start_play(limits, n_trials):\n",
    "    num = random.choice(limits)\n",
    "    user_trials=1\n",
    "    \n",
    "    while True:   \n",
    "\n",
    "        guess_number=int(input(\"I have a hidden number, guess it :  \"))\n",
    "        \n",
    "        \n",
    "        if guess_number == num :\n",
    "            print(f\"You got it successfully in {user_trials} trials\")\n",
    "            break\n",
    "        elif user_trials<n_trials and guess_number < num :\n",
    "            print(\"No, Increase!\")\n",
    "            user_trials+=1\n",
    "        elif user_trials<n_trials and guess_number > num :\n",
    "            print(\"No, Decrease!\")\n",
    "            user_trials+=1\n",
    "\n",
    "        else :\n",
    "            print(\"you lose\")\n",
    "            print(f'the hidden number is {num}')\n",
    "            break\n"
   ]
  },
  {
   "cell_type": "markdown",
   "metadata": {
    "id": "uI9u-XGV2S7P"
   },
   "source": [
    "## Let's Play"
   ]
  },
  {
   "cell_type": "code",
   "execution_count": 234,
   "metadata": {
    "id": "4nIAPOhSpksM"
   },
   "outputs": [],
   "source": [
    "def play():\n",
    "    show_levels()\n",
    "    game_level = game_level_choice()\n",
    "    limits, n_trials = set_game_settings(game_level)\n",
    "    start_play(limits, n_trials)\n",
    "    "
   ]
  },
  {
   "cell_type": "code",
   "execution_count": 235,
   "metadata": {},
   "outputs": [],
   "source": [
    "def play_again():\n",
    "    while True :\n",
    "        again=input(\"if you want to play again press 'a' \")\n",
    "        if again =='a':\n",
    "            play()\n",
    "        else:\n",
    "            print(\"good bye\")\n",
    "            break\n",
    "    return again "
   ]
  },
  {
   "cell_type": "code",
   "execution_count": 236,
   "metadata": {},
   "outputs": [
    {
     "name": "stdout",
     "output_type": "stream",
     "text": [
      "Game Levels :\n",
      "\n",
      "      (1) Easy:\n",
      "\n",
      "          * Limits : [1 - 10]\n",
      " \n",
      "          * No. of trials : 3\n",
      "\n",
      "      (2) Intermediate*:\n",
      " \n",
      "          * Limits : [1 - 100]\n",
      " \n",
      "          * No. of trials : 7\n",
      "\n",
      "      (3) Hard :\n",
      "  \n",
      "          * Limits : [1 - 1000]\n",
      " \n",
      "          * No. of trials : 15\n",
      " \n",
      "Enter the game level :\n",
      "\n",
      "        (1) Easy \t (2) Intermediate \t (3) Hard 1\n",
      "I have a hidden number, guess it :  5\n",
      "No, Increase!\n",
      "I have a hidden number, guess it :  7\n",
      "No, Decrease!\n",
      "I have a hidden number, guess it :  6\n",
      "You got it successfully in 3 trials\n",
      "if you want to play again press 'a' a\n",
      "Game Levels :\n",
      "\n",
      "      (1) Easy:\n",
      "\n",
      "          * Limits : [1 - 10]\n",
      " \n",
      "          * No. of trials : 3\n",
      "\n",
      "      (2) Intermediate*:\n",
      " \n",
      "          * Limits : [1 - 100]\n",
      " \n",
      "          * No. of trials : 7\n",
      "\n",
      "      (3) Hard :\n",
      "  \n",
      "          * Limits : [1 - 1000]\n",
      " \n",
      "          * No. of trials : 15\n",
      " \n",
      "Enter the game level :\n",
      "\n",
      "        (1) Easy \t (2) Intermediate \t (3) Hard 2\n",
      "I have a hidden number, guess it :  50\n",
      "No, Decrease!\n",
      "I have a hidden number, guess it :  25\n",
      "No, Decrease!\n",
      "I have a hidden number, guess it :  15\n",
      "No, Decrease!\n",
      "I have a hidden number, guess it :  7\n",
      "No, Decrease!\n",
      "I have a hidden number, guess it :  5\n",
      "No, Decrease!\n",
      "I have a hidden number, guess it :  3\n",
      "No, Decrease!\n",
      "I have a hidden number, guess it :  2\n",
      "you lose\n",
      "the hidden number is 1\n",
      "if you want to play again press 'a' a\n",
      "Game Levels :\n",
      "\n",
      "      (1) Easy:\n",
      "\n",
      "          * Limits : [1 - 10]\n",
      " \n",
      "          * No. of trials : 3\n",
      "\n",
      "      (2) Intermediate*:\n",
      " \n",
      "          * Limits : [1 - 100]\n",
      " \n",
      "          * No. of trials : 7\n",
      "\n",
      "      (3) Hard :\n",
      "  \n",
      "          * Limits : [1 - 1000]\n",
      " \n",
      "          * No. of trials : 15\n",
      " \n",
      "Enter the game level :\n",
      "\n",
      "        (1) Easy \t (2) Intermediate \t (3) Hard 3\n",
      "I have a hidden number, guess it :  500\n",
      "No, Increase!\n",
      "I have a hidden number, guess it :  750\n",
      "No, Decrease!\n",
      "I have a hidden number, guess it :  600\n",
      "No, Decrease!\n",
      "I have a hidden number, guess it :  550\n",
      "No, Increase!\n",
      "I have a hidden number, guess it :  570\n",
      "No, Decrease!\n",
      "I have a hidden number, guess it :  560\n",
      "No, Increase!\n",
      "I have a hidden number, guess it :  565\n",
      "No, Increase!\n",
      "I have a hidden number, guess it :  567\n",
      "You got it successfully in 8 trials\n",
      "if you want to play again press 'a' t\n",
      "good bye\n"
     ]
    },
    {
     "data": {
      "text/plain": [
       "'t'"
      ]
     },
     "execution_count": 236,
     "metadata": {},
     "output_type": "execute_result"
    }
   ],
   "source": [
    "play()\n",
    "play_again()"
   ]
  },
  {
   "cell_type": "code",
   "execution_count": null,
   "metadata": {},
   "outputs": [],
   "source": []
  }
 ],
 "metadata": {
  "colab": {
   "collapsed_sections": [
    "1NMnTuFU4XF3",
    "GsE-z7Son-xm",
    "ZaIwkooboJ5p",
    "OjfyXPCeoQM4"
   ],
   "provenance": []
  },
  "kernelspec": {
   "display_name": "Python 3 (ipykernel)",
   "language": "python",
   "name": "python3"
  },
  "language_info": {
   "codemirror_mode": {
    "name": "ipython",
    "version": 3
   },
   "file_extension": ".py",
   "mimetype": "text/x-python",
   "name": "python",
   "nbconvert_exporter": "python",
   "pygments_lexer": "ipython3",
   "version": "3.10.9"
  }
 },
 "nbformat": 4,
 "nbformat_minor": 1
}
