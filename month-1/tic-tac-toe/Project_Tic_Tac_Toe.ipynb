{
  "cells": [
    {
      "cell_type": "markdown",
      "metadata": {
        "id": "hMV-7TpxbEDG"
      },
      "source": [
        "\n",
        "<a href=\"https://www.zero-grad.com/\">\n",
        "         <img alt=\"Zero Grad\" src=\"https://lh3.googleusercontent.com/oEMY-qk_B2HW_Fponz1a3u1fLfo3NpO0VFjQKnVW8fH0v93NAWala5Kgp0nN2ubiyZdEMpwhv3Ynv7bXsB0RZ28YfEd_ZlRum75OHEu0-z7XwHfcD3sin7_SORLzg1gz52MsxD3b1WbxQWX1RdR4HP3jpbJTOuCiddl92UBcQH_x-Llx7_XuZuwb9ekN9vYnKsw6U1yL2df4IVrJEDySttzab9qlHvMO7sSekgS64jPVAmATjqXqlvrwM026dhrad-7nX-hfr2uKlUGPuo9xKzVo4EhbUP1-pKBQNPNHO6P0KcReg3NxbtKmWXRyg9LPX0xO-wwXWt9GhCcPXFV_BoY5eQXabCjR3mlr9SO01VgWplas-XF4337_JOm-bVkiaQjQca_N4Gg0hy26TvIGRnHEMIPSgudYPqhMnatoN4xAC715rP82r1svC0_qadXMZHu6D40YqWnY9ZE-iujr2p1_CetxmG-uY94UATy7o-SnxuPchG4QfZkiUgRMr8xNg86bQMuBxbCS_lOyVMwfqwbt2IunlDcZ8yyN_3SJFzFHuFOOjQolgGQrytI0mP1oTwba7je0RtBtCuTck1UCMMsZvMnJhCtWgMmuLoYTkSCzxMXbz0T3L2AClDouA_3dwM7z1gdm8Gq4v06T1KWFUs1adGNH5fuj-pUHEfW4drzzXgolPH5SehqhaNsqdMttCPUzNPIIEjwfULyQi7nlP-w-qydK82mdhdmjQhrprfoGtsPckJkI1Tur60uZI7nLkES5cE3tQrGualSNArRkkU8KN4tStZ0CkmqZNkAlMbfAJSYBD7tDxhGSg922AdLevSLJMTUyg6KuHoY30r7zH1Z8fE0R8aFZL2LJl54OU_tkXEdlFlSnZTOdB-PVTj-yagpt99SetLnQIX5SS_Vxc0BNPKjUZG0oEHYbIxkbZN1O7Rg78xe-thytngS0byfuaeP2X4NYjg29FIffnn72bAUs9Ii0N2mOpABLg1uQMN4MyAa1Mbd_=w1300-h200-no?authuser=1\" >\n",
        "      </a>"
      ]
    },
    {
      "cell_type": "markdown",
      "metadata": {
        "id": "PhpgbWHJhJOW"
      },
      "source": [
        "# Tic Tac Toe Project Description"
      ]
    },
    {
      "cell_type": "markdown",
      "metadata": {
        "id": "9XJyp9xehPBl"
      },
      "source": [
        " **`(1) Create Empty board (3x3):`**\n",
        "\n",
        "  `1  2  3`\n",
        "\n",
        "  `4 5 6`\n",
        "\n",
        "  `7 8 9`\n",
        "\n",
        " **`(2) Show Board`**\n",
        "\n",
        " **`(3) Set Players Randomly ('X', 'O')`**\n",
        "\n",
        " **`(4) Take Input from Player`**\n",
        "\n",
        " **`(5) Check Full Board >> Draw`**\n",
        "\n",
        " **`(6) Check if Someone wins >> Finish`**"
      ]
    },
    {
      "cell_type": "markdown",
      "metadata": {
        "id": "m2nflmTioFy_"
      },
      "source": [
        "# Template"
      ]
    },
    {
      "cell_type": "markdown",
      "metadata": {
        "id": "GsE-z7Son-xm"
      },
      "source": [
        "## Empty Board"
      ]
    },
    {
      "cell_type": "code",
      "execution_count": 1,
      "metadata": {
        "id": "YueCJNtPnndY"
      },
      "outputs": [],
      "source": [
        "def create_empty_board():\n",
        "    board = [['1', '2', '3'], ['4', '5', '6'], ['7', '8', '9']]\n",
        "\n",
        "    for i in board:\n",
        "        for j in i:\n",
        "            print(j, end=\"\\t\")\n",
        "        print('\\n')\n",
        "    return board"
      ]
    },
    {
      "cell_type": "code",
      "execution_count": 2,
      "metadata": {
        "id": "2eIvqpfNZp_L",
        "outputId": "58be381f-d3a3-4cbc-cc81-f9109234ddab",
        "colab": {
          "base_uri": "https://localhost:8080/"
        }
      },
      "outputs": [
        {
          "output_type": "stream",
          "name": "stdout",
          "text": [
            "1\t2\t3\t\n",
            "\n",
            "4\t5\t6\t\n",
            "\n",
            "7\t8\t9\t\n",
            "\n"
          ]
        },
        {
          "output_type": "execute_result",
          "data": {
            "text/plain": [
              "[['1', '2', '3'], ['4', '5', '6'], ['7', '8', '9']]"
            ]
          },
          "metadata": {},
          "execution_count": 2
        }
      ],
      "source": [
        "create_empty_board()"
      ]
    },
    {
      "cell_type": "markdown",
      "metadata": {
        "id": "qjKBWyq4f3Fr"
      },
      "source": [
        "## Show Board"
      ]
    },
    {
      "cell_type": "code",
      "execution_count": 3,
      "metadata": {
        "id": "Bn6VqZo_Xze5"
      },
      "outputs": [],
      "source": [
        "def show_board(board):\n",
        "    for i in board:\n",
        "        for j in i:\n",
        "            print(j, end=\"\\t\")\n",
        "        print('\\n')"
      ]
    },
    {
      "cell_type": "code",
      "execution_count": 4,
      "metadata": {
        "id": "NWqDyk1qZp_O",
        "outputId": "09af2833-0789-4a2c-c019-05244d616360",
        "colab": {
          "base_uri": "https://localhost:8080/"
        }
      },
      "outputs": [
        {
          "output_type": "stream",
          "name": "stdout",
          "text": [
            "1\t2\t3\t\n",
            "\n",
            "4\tX\t6\t\n",
            "\n",
            "7\t8\t9\t\n",
            "\n"
          ]
        }
      ],
      "source": [
        "board = [[1,2,3],[4,'X',6],[7,8,9]]\n",
        "show_board(board)"
      ]
    },
    {
      "cell_type": "markdown",
      "metadata": {
        "id": "ZaIwkooboJ5p"
      },
      "source": [
        "## Set Players"
      ]
    },
    {
      "cell_type": "code",
      "execution_count": 5,
      "metadata": {
        "id": "we7UkC6AhFwy"
      },
      "outputs": [],
      "source": [
        "import random\n",
        "def set_players():\n",
        "    player=random.choice(('X', 'O'))\n",
        "    if player == 'X':\n",
        "        return ('X', 'O')\n",
        "    else :\n",
        "        return ('O', 'X')"
      ]
    },
    {
      "cell_type": "code",
      "execution_count": 6,
      "metadata": {
        "id": "A-J1wRBHZp_Q",
        "outputId": "a4f2abe3-3b2b-4abc-88f5-40071dd7aa49",
        "colab": {
          "base_uri": "https://localhost:8080/"
        }
      },
      "outputs": [
        {
          "output_type": "execute_result",
          "data": {
            "text/plain": [
              "('O', 'X')"
            ]
          },
          "metadata": {},
          "execution_count": 6
        }
      ],
      "source": [
        "set_players()"
      ]
    },
    {
      "cell_type": "markdown",
      "metadata": {
        "id": "VNl11PuZgDjc"
      },
      "source": [
        "## Take Input"
      ]
    },
    {
      "cell_type": "code",
      "execution_count": 7,
      "metadata": {
        "id": "pZAd299MY2fw"
      },
      "outputs": [],
      "source": [
        "def take_input(board, player):\n",
        "        num=int(input(\"Please Enter a number between 1,9 represents an empty position:    \"))\n",
        "\n",
        "        if num>=1 and num<=9:\n",
        "            row = (num - 1) // 3\n",
        "            col = (num - 1) % 3\n",
        "\n",
        "            if board[row][col].isdigit():\n",
        "                board[row][col] = player\n",
        "            else:\n",
        "                print(\"invalid choice\")\n",
        "\n",
        "        show_board(board)"
      ]
    },
    {
      "cell_type": "code",
      "execution_count": 8,
      "metadata": {
        "id": "aPxVPIJMZp_S",
        "outputId": "75af9240-1277-49eb-9c46-5034474beae9",
        "colab": {
          "base_uri": "https://localhost:8080/"
        }
      },
      "outputs": [
        {
          "output_type": "stream",
          "name": "stdout",
          "text": [
            "Please Enter a number between 1,9 represents an empty position:    2\n",
            "1\tO\t3\t\n",
            "\n",
            "4\tX\t6\t\n",
            "\n",
            "7\t8\t9\t\n",
            "\n"
          ]
        }
      ],
      "source": [
        "board = [['1','2','3'],['4','X','6'],['7','8','9']]\n",
        "player ='O'\n",
        "player_input = '8'\n",
        "take_input(board, player)"
      ]
    },
    {
      "cell_type": "markdown",
      "metadata": {
        "id": "mgCFF48jgVq7"
      },
      "source": [
        "## Check Full Board"
      ]
    },
    {
      "cell_type": "code",
      "execution_count": 9,
      "metadata": {
        "id": "obxUdjg_ThZi"
      },
      "outputs": [],
      "source": [
        "# how to Check Full Board\n",
        "def check_full_board(board):\n",
        "    for i in board:\n",
        "        for j in i:\n",
        "            if j.lower() =='o' or j.lower()=='x':\n",
        "                continue\n",
        "            else :\n",
        "                return False\n",
        "\n",
        "\n",
        "    return True"
      ]
    },
    {
      "cell_type": "code",
      "execution_count": 10,
      "metadata": {
        "colab": {
          "base_uri": "https://localhost:8080/"
        },
        "id": "TcLZt1PqS_9i",
        "outputId": "282e6432-16bd-4b71-d3e5-5111525dfb2c"
      },
      "outputs": [
        {
          "output_type": "execute_result",
          "data": {
            "text/plain": [
              "True"
            ]
          },
          "metadata": {},
          "execution_count": 10
        }
      ],
      "source": [
        "board = [['o','x','x'],['o','X','o'],['x','o','x']]\n",
        "check_full_board(board)"
      ]
    },
    {
      "cell_type": "code",
      "execution_count": 11,
      "metadata": {
        "id": "0UYB90T9Zp_U",
        "outputId": "67df312b-1732-4f84-af58-34233cb4ec5b",
        "colab": {
          "base_uri": "https://localhost:8080/"
        }
      },
      "outputs": [
        {
          "output_type": "execute_result",
          "data": {
            "text/plain": [
              "False"
            ]
          },
          "metadata": {},
          "execution_count": 11
        }
      ],
      "source": [
        "board = [['o','x','x'],['4','X','o'],['x','o','x']]\n",
        "check_full_board(board)"
      ]
    },
    {
      "cell_type": "markdown",
      "metadata": {
        "id": "OjfyXPCeoQM4"
      },
      "source": [
        "## Check Win\n"
      ]
    },
    {
      "cell_type": "code",
      "execution_count": 12,
      "metadata": {
        "id": "NTxJ1qsJmhoG"
      },
      "outputs": [],
      "source": [
        "def check_win(board):\n",
        "    for row in board:\n",
        "        if row[0] == row[1] == row[2] :\n",
        "            return True\n",
        "    for col in range(3):\n",
        "        if board[0][col] == board[1][col] == board[2][col] :\n",
        "            return True\n",
        "    # two diagonals\n",
        "    if board[0][0] == board[1][1] == board[2][2] :\n",
        "        return True\n",
        "    if board[0][2] == board[1][1] == board[2][0] :\n",
        "        return True\n",
        "    return False"
      ]
    },
    {
      "cell_type": "code",
      "execution_count": 13,
      "metadata": {
        "colab": {
          "base_uri": "https://localhost:8080/"
        },
        "id": "E-mETiZEfZqp",
        "outputId": "1774581a-9d3b-4dd1-812b-27b8fb024b93"
      },
      "outputs": [
        {
          "output_type": "stream",
          "name": "stdout",
          "text": [
            "o\tx\tx\t\n",
            "\n",
            "o\to\tx\t\n",
            "\n",
            "x\to\tx\t\n",
            "\n"
          ]
        },
        {
          "output_type": "execute_result",
          "data": {
            "text/plain": [
              "True"
            ]
          },
          "metadata": {},
          "execution_count": 13
        }
      ],
      "source": [
        "board = [['o','x','x'],['o','o','x'],['x','o','x']]\n",
        "show_board(board)\n",
        "check_win(board)"
      ]
    },
    {
      "cell_type": "code",
      "execution_count": 14,
      "metadata": {
        "colab": {
          "base_uri": "https://localhost:8080/"
        },
        "id": "CmlQlsjZkIut",
        "outputId": "31cee466-0733-4460-f652-7023295d2b7b"
      },
      "outputs": [
        {
          "output_type": "stream",
          "name": "stdout",
          "text": [
            "o\tx\to\t\n",
            "\n",
            "o\to\tx\t\n",
            "\n",
            "x\to\tx\t\n",
            "\n"
          ]
        },
        {
          "output_type": "execute_result",
          "data": {
            "text/plain": [
              "False"
            ]
          },
          "metadata": {},
          "execution_count": 14
        }
      ],
      "source": [
        "board = [['o','x','o'],['o','o','x'],['x','o','x']]\n",
        "show_board(board)\n",
        "check_win(board)"
      ]
    },
    {
      "cell_type": "markdown",
      "metadata": {
        "id": "uI9u-XGV2S7P"
      },
      "source": [
        "## Let's Play"
      ]
    },
    {
      "cell_type": "code",
      "execution_count": 36,
      "metadata": {
        "id": "4nIAPOhSpksM"
      },
      "outputs": [],
      "source": [
        "def play():\n",
        "    player1, player2 = set_players()\n",
        "    board = create_empty_board()\n",
        "\n",
        "    while True:\n",
        "        print(f\"Player {player1} turn \")\n",
        "        take_input(board, player1)\n",
        "\n",
        "        if check_win(board):\n",
        "            print(f\"Player {player1} wins!\")\n",
        "            break\n",
        "        if check_full_board(board):\n",
        "            print(\"It's a draw!\")\n",
        "            break\n",
        "\n",
        "        print(f\"Player {player2} turn \")\n",
        "        take_input(board, player2)\n",
        "\n",
        "        if check_win(board):\n",
        "            print(f\"Player {player2} wins!\")\n",
        "            break\n",
        "        if check_full_board(board):\n",
        "            print(\"It's a draw!\")\n",
        "            break\n",
        "\n"
      ]
    },
    {
      "cell_type": "code",
      "execution_count": null,
      "metadata": {
        "id": "O911u9mL3Akr",
        "colab": {
          "base_uri": "https://localhost:8080/"
        },
        "outputId": "3d3f67bd-5647-4365-db87-ce720756b142"
      },
      "outputs": [
        {
          "output_type": "stream",
          "name": "stdout",
          "text": [
            "1\t2\t3\t\n",
            "\n",
            "4\t5\t6\t\n",
            "\n",
            "7\t8\t9\t\n",
            "\n",
            "Player O turn \n"
          ]
        }
      ],
      "source": [
        "play()"
      ]
    }
  ],
  "metadata": {
    "colab": {
      "provenance": []
    },
    "kernelspec": {
      "display_name": "Python 3 (ipykernel)",
      "language": "python",
      "name": "python3"
    },
    "language_info": {
      "codemirror_mode": {
        "name": "ipython",
        "version": 3
      },
      "file_extension": ".py",
      "mimetype": "text/x-python",
      "name": "python",
      "nbconvert_exporter": "python",
      "pygments_lexer": "ipython3",
      "version": "3.10.9"
    }
  },
  "nbformat": 4,
  "nbformat_minor": 0
}