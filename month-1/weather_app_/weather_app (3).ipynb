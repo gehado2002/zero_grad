{
  "cells": [
    {
      "cell_type": "code",
      "execution_count": 1,
      "id": "bf4944e9",
      "metadata": {
        "id": "bf4944e9"
      },
      "outputs": [],
      "source": [
        "import requests\n",
        "key='8c4cb95607a2196784e651ad4441fae9'\n",
        "city='cairo'"
      ]
    },
    {
      "cell_type": "code",
      "execution_count": 2,
      "id": "8c5f4bcc",
      "metadata": {
        "id": "8c5f4bcc"
      },
      "outputs": [],
      "source": [
        "url=f'https://api.openweathermap.org/data/2.5/weather?q={city}&units=metric&appid={key}'"
      ]
    },
    {
      "cell_type": "code",
      "execution_count": 3,
      "id": "54c57b60",
      "metadata": {
        "id": "54c57b60"
      },
      "outputs": [],
      "source": [
        "response=requests.get(url)"
      ]
    },
    {
      "cell_type": "code",
      "execution_count": 4,
      "id": "cc0e1b9f",
      "metadata": {
        "colab": {
          "base_uri": "https://localhost:8080/"
        },
        "id": "cc0e1b9f",
        "outputId": "211908db-cb2c-42cd-9540-85a4d92e4a19"
      },
      "outputs": [
        {
          "output_type": "execute_result",
          "data": {
            "text/plain": [
              "<Response [200]>"
            ]
          },
          "metadata": {},
          "execution_count": 4
        }
      ],
      "source": [
        "response"
      ]
    },
    {
      "cell_type": "code",
      "execution_count": 5,
      "id": "ea2b1354",
      "metadata": {
        "colab": {
          "base_uri": "https://localhost:8080/"
        },
        "id": "ea2b1354",
        "outputId": "62a0549d-6fa3-4bad-818a-8cdefb5104f8"
      },
      "outputs": [
        {
          "output_type": "execute_result",
          "data": {
            "text/plain": [
              "{'temp': 32.42,\n",
              " 'feels_like': 34.65,\n",
              " 'temp_min': 31.9,\n",
              " 'temp_max': 32.42,\n",
              " 'pressure': 1005,\n",
              " 'humidity': 48,\n",
              " 'sea_level': 1005,\n",
              " 'grnd_level': 1000}"
            ]
          },
          "metadata": {},
          "execution_count": 5
        }
      ],
      "source": [
        "response.json()['main']"
      ]
    },
    {
      "cell_type": "code",
      "execution_count": 34,
      "id": "2c14cf6c",
      "metadata": {
        "id": "2c14cf6c"
      },
      "outputs": [],
      "source": [
        "import requests\n",
        "import pandas as pd\n",
        "\n",
        "def weather_API():\n",
        "    tries=0\n",
        "    while True:\n",
        "\n",
        "        if tries==0:\n",
        "            choosen_city=input('enter the city name : ')\n",
        "        else:\n",
        "            choosen_city=input('enter another city name : ')\n",
        "\n",
        "        key='8c4cb95607a2196784e651ad4441fae9'\n",
        "        url=f'https://api.openweathermap.org/data/2.5/weather?q={choosen_city}&units=metric&appid={key}'\n",
        "        response=requests.get(url)\n",
        "\n",
        "        if response.status_code == 200:\n",
        "            weather_data=response.json()['main']\n",
        "            print(f\"\\n🌤️ Weather in {choosen_city.title()} 🌤️\\n\")\n",
        "\n",
        "            df = pd.DataFrame(weather_data.items(), columns=['Parameter', 'Value'])\n",
        "            print(df.to_string(index=False))\n",
        "            print(\"*\"*20)\n",
        "\n",
        "\n",
        "        else:\n",
        "            print(f'city {choosen_city} is not found 😔\\n')\n",
        "\n",
        "        tries+=1\n",
        "        try_again=input('try again 🤷‍♀️? \"y/n\"')\n",
        "        print(\"\\n\")\n",
        "        if try_again !=\"y\":\n",
        "            print(\"🕊️ good bye\")\n",
        "            break\n",
        "        else:\n",
        "            continue"
      ]
    },
    {
      "cell_type": "code",
      "execution_count": 36,
      "id": "2ec30b7e",
      "metadata": {
        "colab": {
          "base_uri": "https://localhost:8080/"
        },
        "id": "2ec30b7e",
        "outputId": "3ec7ca85-7e7c-4a38-e332-2cd5cadcd020"
      },
      "outputs": [
        {
          "output_type": "stream",
          "name": "stdout",
          "text": [
            "enter the city name : cairo\n",
            "\n",
            "🌤️ Weather in Cairo 🌤️\n",
            "\n",
            " Parameter   Value\n",
            "      temp   32.42\n",
            "feels_like   34.65\n",
            "  temp_min   31.90\n",
            "  temp_max   32.42\n",
            "  pressure 1005.00\n",
            "  humidity   48.00\n",
            " sea_level 1005.00\n",
            "grnd_level 1000.00\n",
            "********************\n",
            "try again 🤷‍♀️? \"y/n\"y\n",
            "\n",
            "\n",
            "enter another city name : t\n",
            "city t is not found 😔\n",
            "\n",
            "try again 🤷‍♀️? \"y/n\"y\n",
            "\n",
            "\n",
            "enter another city name : tanta\n",
            "\n",
            "🌤️ Weather in Tanta 🌤️\n",
            "\n",
            " Parameter   Value\n",
            "      temp   29.69\n",
            "feels_like   30.60\n",
            "  temp_min   29.69\n",
            "  temp_max   29.69\n",
            "  pressure 1005.00\n",
            "  humidity   50.00\n",
            " sea_level 1005.00\n",
            "grnd_level 1004.00\n",
            "********************\n",
            "try again 🤷‍♀️? \"y/n\"n\n",
            "\n",
            "\n",
            "🕊️ good bye\n"
          ]
        }
      ],
      "source": [
        "weather_API()"
      ]
    }
  ],
  "metadata": {
    "kernelspec": {
      "display_name": "Python 3 (ipykernel)",
      "language": "python",
      "name": "python3"
    },
    "language_info": {
      "codemirror_mode": {
        "name": "ipython",
        "version": 3
      },
      "file_extension": ".py",
      "mimetype": "text/x-python",
      "name": "python",
      "nbconvert_exporter": "python",
      "pygments_lexer": "ipython3",
      "version": "3.10.9"
    },
    "colab": {
      "provenance": []
    }
  },
  "nbformat": 4,
  "nbformat_minor": 5
}